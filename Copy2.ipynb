{
 "cells": [
  {
   "cell_type": "code",
   "execution_count": null,
   "id": "c5d7f64c",
   "metadata": {},
   "outputs": [],
   "source": [
    "pip install --upgrade scikit-learn"
   ]
  },
  {
   "cell_type": "code",
   "execution_count": null,
   "id": "91a5f7cf",
   "metadata": {},
   "outputs": [],
   "source": [
    "pip install --upgrade imbalanced-learn"
   ]
  },
  {
   "cell_type": "code",
   "execution_count": null,
   "id": "ac341227",
   "metadata": {},
   "outputs": [],
   "source": [
    "pip install xgboost"
   ]
  },
  {
   "cell_type": "code",
   "execution_count": 36,
   "id": "2d164e84",
   "metadata": {},
   "outputs": [],
   "source": [
    "# Import required libraries\n",
    "import pandas as pd\n",
    "import sklearn\n",
    "import imblearn\n",
    "import matplotlib.pyplot as plt\n",
    "import xgboost as xgb\n",
    "import seaborn as sns\n",
    "\n",
    "\n",
    "from imblearn.over_sampling import SMOTE\n",
    "from collections import Counter\n",
    "from sklearn.model_selection import StratifiedKFold\n",
    "from sklearn.metrics import accuracy_score, precision_score, recall_score, f1_score, roc_auc_score\n",
    "from sklearn.preprocessing import StandardScaler\n",
    "from sklearn.model_selection import train_test_split, cross_val_score\n",
    "from sklearn.ensemble import RandomForestClassifier\n",
    "from sklearn.linear_model import LogisticRegression"
   ]
  },
  {
   "cell_type": "code",
   "execution_count": 2,
   "id": "cca65565",
   "metadata": {},
   "outputs": [],
   "source": [
    "# load the dataset\n",
    "df = pd.read_csv('financial_transactions.csv')"
   ]
  },
  {
   "cell_type": "code",
   "execution_count": 3,
   "id": "5322183b",
   "metadata": {
    "scrolled": true
   },
   "outputs": [],
   "source": [
    "df.head()"
   ]
  },
  {
   "cell_type": "code",
   "execution_count": null,
   "id": "c2d095bd",
   "metadata": {
    "scrolled": true
   },
   "outputs": [],
   "source": [
    "# column and variable types\n",
    "df.info()\n",
    "df.describe()"
   ]
  },
  {
   "cell_type": "code",
   "execution_count": null,
   "id": "71325c6c",
   "metadata": {},
   "outputs": [],
   "source": [
    "# check for missing values\n",
    "df.isnull().sum()"
   ]
  },
  {
   "cell_type": "code",
   "execution_count": null,
   "id": "7022bb63",
   "metadata": {},
   "outputs": [],
   "source": [
    "# check for any imbalance\n",
    "df['isFraud'].value_counts()"
   ]
  },
  {
   "cell_type": "code",
   "execution_count": null,
   "id": "14188cde",
   "metadata": {},
   "outputs": [],
   "source": [
    "# One Hot Encoding for categorical features\n",
    "df = pd.get_dummies(df, columns=['type'], drop_first=True)\n",
    "print(df.head())"
   ]
  },
  {
   "cell_type": "code",
   "execution_count": 8,
   "id": "e7bceb70",
   "metadata": {},
   "outputs": [],
   "source": [
    "# Selecting columns to scale\n",
    "numerical_columns = ['amount', 'oldbalanceOrg', 'newbalanceOrig', \n",
    "                     'oldbalanceDest', 'newbalanceDest']"
   ]
  },
  {
   "cell_type": "code",
   "execution_count": 9,
   "id": "9639bc4b",
   "metadata": {},
   "outputs": [],
   "source": [
    "# Standard scaling for numerical features\n",
    "scaler = StandardScaler()\n",
    "df[numerical_columns] = scaler.fit_transform(df[numerical_columns])"
   ]
  },
  {
   "cell_type": "code",
   "execution_count": null,
   "id": "45f32698",
   "metadata": {},
   "outputs": [],
   "source": [
    "df.head()"
   ]
  },
  {
   "cell_type": "code",
   "execution_count": 11,
   "id": "14537288",
   "metadata": {},
   "outputs": [],
   "source": [
    "df = df.drop(['nameOrig', 'nameDest','isFlaggedFraud'], axis=1) # dropping unique identifiers\n",
    "\n",
    "# split dataset into training and testing sets\n",
    "X = df.drop('isFraud', axis=1)  \n",
    "y = df['isFraud']  "
   ]
  },
  {
   "cell_type": "code",
   "execution_count": null,
   "id": "a9741f83",
   "metadata": {},
   "outputs": [],
   "source": [
    "# Create the count plot with a logarithmic scale on the y-axis\n",
    "sns.countplot(x='isFraud', data=df)\n",
    "plt.yscale('log')\n",
    "plt.savefig('fraud_distribution.png', dpi=300, bbox_inches='tight')\n",
    "plt.show()"
   ]
  },
  {
   "cell_type": "code",
   "execution_count": null,
   "id": "60782646",
   "metadata": {},
   "outputs": [],
   "source": [
    "# Calculate correlation matrix\n",
    "corr_matrix = df.corr()\n",
    "# Create heatmap for correlation matrix\n",
    "plt.figure(figsize=(12, 8))\n",
    "sns.heatmap(corr_matrix, annot=True, cmap='coolwarm', fmt='.2f')\n",
    "plt.savefig('Correlation.png', dpi=300, bbox_inches='tight')\n",
    "plt.show()"
   ]
  },
  {
   "cell_type": "code",
   "execution_count": null,
   "id": "7db9ed08",
   "metadata": {},
   "outputs": [],
   "source": [
    "# Create box plot \n",
    "plt.figure(figsize=(10, 6))\n",
    "sns.boxplot(x='isFraud', y='amount', data=df)\n",
    "plt.yscale('log')  \n",
    "plt.savefig('Boxplot.png', dpi=300, bbox_inches='tight')\n",
    "\n",
    "plt.show()"
   ]
  },
  {
   "cell_type": "code",
   "execution_count": null,
   "id": "f84cce5f",
   "metadata": {},
   "outputs": [],
   "source": [
    "# Create scatter plot\n",
    "plt.figure(figsize=(10, 6))\n",
    "sns.scatterplot(x='oldbalanceOrg', y='amount', hue='isFraud', data=df)\n",
    "plt.savefig('scatterplot.png', dpi=300, bbox_inches='tight')\n",
    "plt.show()\n"
   ]
  },
  {
   "cell_type": "code",
   "execution_count": 16,
   "id": "dd25caba",
   "metadata": {},
   "outputs": [],
   "source": [
    "# split into 80% training and 20% testing\n",
    "X_train, X_test, y_train, y_test = train_test_split(X, y, test_size=0.2, random_state=42)"
   ]
  },
  {
   "cell_type": "code",
   "execution_count": null,
   "id": "92672141",
   "metadata": {},
   "outputs": [],
   "source": [
    "# check the shapes of the resulting datasets\n",
    "print(f\"Training Set Shape: {X_train.shape}, {y_train.shape}\")\n",
    "print(f\"Test Set Shape: {X_test.shape}, {y_test.shape}\")"
   ]
  },
  {
   "cell_type": "code",
   "execution_count": null,
   "id": "7e7fa3a0",
   "metadata": {},
   "outputs": [],
   "source": [
    "# handling class imbalance\n",
    "smote = SMOTE(random_state=42)\n",
    "\n",
    "# Apply SMOTE to only the training set\n",
    "X_resampled, y_resampled = smote.fit_resample(X_train, y_train)\n",
    "\n",
    "print(f'Original class distribution: {Counter(y_train)}')\n",
    "print(f'Resampled class distribution: {Counter(y_resampled)}')"
   ]
  },
  {
   "cell_type": "code",
   "execution_count": null,
   "id": "09a70a49",
   "metadata": {},
   "outputs": [],
   "source": [
    "# Feature names (for visualization purposes, you can replace these with actual feature names from your dataset)\n",
    "feature_names = [f\"feature_{i}\" for i in range(X.shape[1])]"
   ]
  },
  {
   "cell_type": "code",
   "execution_count": null,
   "id": "e6a6805b",
   "metadata": {},
   "outputs": [],
   "source": [
    "# Feature scaling \n",
    "scaler = StandardScaler()\n",
    "X_train_scaled = scaler.fit_transform(X_resampled)\n",
    "X_test_scaled = scaler.transform(X_test)\n",
    "\n",
    "# Initialise the Lasso model \n",
    "lasso = Lasso(alpha=0.01)\n",
    "\n",
    "# Fit the Lasso model to the training data\n",
    "lasso.fit(X_train_scaled, y_train)\n",
    "\n",
    "# Get the coefficients of the features\n",
    "lasso_coefficients = lasso.coef_\n",
    "\n",
    "# Convert to a DataFrame to view feature coefficients\n",
    "feature_importances = pd.DataFrame({'Feature': feature_names, 'Coefficient': lasso_coefficients})\n",
    "\n",
    "# Sort the features by their importance (absolute value of coefficients)\n",
    "feature_importances = feature_importances.reindex(feature_importances['Coefficient'].abs().sort_values(ascending=False).index)"
   ]
  },
  {
   "cell_type": "code",
   "execution_count": null,
   "id": "ec565deb",
   "metadata": {},
   "outputs": [],
   "source": [
    "# Plot the feature importances\n",
    "plt.figure(figsize=(8, 6))\n",
    "plt.barh(feature_importances['Feature'], feature_importances['Coefficient'])\n",
    "plt.savefig('feature_selection.png', dpi=300, bbox_inches='tight')\n",
    "plt.show()"
   ]
  },
  {
   "cell_type": "code",
   "execution_count": null,
   "id": "b7da612f",
   "metadata": {},
   "outputs": [],
   "source": [
    "# Initialise StratifiedKFold for cross validation\n",
    "cv = StratifiedKFold(n_splits=5, shuffle=True, random_state=42)\n",
    "\n",
    "# Listof models\n",
    "models = [\n",
    "    (\"Logistic Regression\", LogisticRegression(max_iter=1000)),\n",
    "    (\"Random Forest\", RandomForestClassifier(random_state=42)),\n",
    "    (\"XGBoost\", xgb.XGBClassifier(use_label_encoder=False, eval_metric='logloss'))\n",
    "]\n",
    "\n",
    "# Function to evaluate the model\n",
    "def evaluate_model(y_true, y_pred):\n",
    "    accuracy = accuracy_score(y_true, y_pred)\n",
    "    precision = precision_score(y_true, y_pred)\n",
    "    recall = recall_score(y_true, y_pred)\n",
    "    f1 = f1_score(y_true, y_pred)\n",
    "    auc = roc_auc_score(y_true, y_pred)\n",
    "    return accuracy, precision, recall, f1, auc\n",
    "\n",
    "# Loop through each model\n",
    "for name, model in models:\n",
    "    print(f\"\\nTraining and evaluating: {name}\")\n",
    "\n",
    "    # Perform cross validation\n",
    "    cross_val_scores = cross_val_score(model, X_resampled, y_resampled, cv=cv, scoring='f1')\n",
    "    print(f\"{name} - Mean F1 Score from CV: {cross_val_scores.mean()}\")\n",
    "\n",
    "    # Fit the model \n",
    "    model.fit(X_resampled, y_resampled)\n",
    "\n",
    "    # Predict on the test set\n",
    "    y_pred = model.predict(X_test)\n",
    "\n",
    "    # Evaluate the model\n",
    "    accuracy, precision, recall, f1, auc = evaluate_model(y_test, y_pred)\n",
    "    \n",
    "    # Print evaluation metrics\n",
    "    print(f\"Test Set Evaluation for {name}:\")\n",
    "    print(f\"Accuracy: {accuracy:.4f}\")\n",
    "    print(f\"Precision: {precision:.4f}\")\n",
    "    print(f\"Recall: {recall:.4f}\")\n",
    "    print(f\"F1 Score: {f1:.4f}\")\n",
    "    print(f\"AUC: {auc:.4f}\")"
   ]
  },
  {
   "cell_type": "code",
   "execution_count": 40,
   "id": "efd60b56",
   "metadata": {},
   "outputs": [],
   "source": [
    "# Import necessary libraries\n",
    "from sklearn.model_selection import RandomizedSearchCV\n",
    "from xgboost import XGBClassifier\n",
    "import numpy as np"
   ]
  },
  {
   "cell_type": "code",
   "execution_count": 41,
   "id": "aa9580eb",
   "metadata": {},
   "outputs": [],
   "source": [
    "# Define the parameter grid for XGBoost\n",
    "param_grid = {\n",
    "    'n_estimators': [100, 200, 300],                 \n",
    "    'max_depth': [3, 6, 9],                           \n",
    "    'learning_rate': [0.01, 0.1, 0.2],                \n",
    "    'subsample': [0.6, 0.8, 1.0],                    \n",
    "    'colsample_bytree': [0.6, 0.8, 1.0],              \n",
    "    'gamma': [0, 0.1, 0.3],                           \n",
    "    'reg_alpha': [0, 0.01, 0.1],                      \n",
    "    'reg_lambda': [1, 0.1, 0.01]                      \n",
    "}\n"
   ]
  },
  {
   "cell_type": "code",
   "execution_count": 42,
   "id": "75981379",
   "metadata": {},
   "outputs": [],
   "source": [
    "# Initialise the XGBoost classifier\n",
    "xgb_clf = XGBClassifier(use_label_encoder=False, eval_metric='logloss')\n",
    "\n",
    "# Initialise the RandomizedSearchCV \n",
    "random_search = RandomizedSearchCV(\n",
    "    estimator=xgb_clf,\n",
    "    param_distributions=param_grid,\n",
    "    n_iter=10,                      \n",
    "    scoring='f1',                   \n",
    "    cv=5,                           \n",
    "    verbose=1,                      \n",
    "    n_jobs=-1,                      \n",
    "    random_state=42                 \n",
    ")"
   ]
  },
  {
   "cell_type": "code",
   "execution_count": null,
   "id": "194e75ae",
   "metadata": {},
   "outputs": [],
   "source": [
    "# Fit the RandomizedSearchCV \n",
    "random_search.fit(X_resampled, y_resampled)\n",
    "\n",
    "# Get the best estimator\n",
    "best_xgb = random_search.best_estimator_\n",
    "\n",
    "# Make predictions on the test set\n",
    "y_pred = best_xgb.predict(X_test)\n",
    "\n",
    "# Evaluate the model\n",
    "accuracy = accuracy_score(y_test, y_pred)\n",
    "precision = precision_score(y_test, y_pred)\n",
    "recall = recall_score(y_test, y_pred)\n",
    "f1 = f1_score(y_test, y_pred)\n",
    "auc = roc_auc_score(y_test, y_pred)\n",
    "\n",
    "# Print the results\n",
    "print(f\"Best Hyperparameters: {random_search.best_params_}\")\n",
    "print(f\"Test Set Evaluation with Tuned XGBoost:\")\n",
    "print(f\"Accuracy: {accuracy:.4f}\")\n",
    "print(f\"Precision: {precision:.4f}\")\n",
    "print(f\"Recall: {recall:.4f}\")\n",
    "print(f\"F1 Score: {f1:.4f}\")\n",
    "print(f\"AUC: {auc:.4f}\")\n"
   ]
  },
  {
   "cell_type": "code",
   "execution_count": null,
   "id": "528bbb57",
   "metadata": {},
   "outputs": [],
   "source": [
    "# Import necessary libraries\n",
    "from sklearn.metrics import roc_curve, roc_auc_score\n",
    "import matplotlib.pyplot as plt\n",
    "\n",
    "# 1. Fit Logistic Regression\n",
    "log_reg = LogisticRegression(max_iter=1000)\n",
    "log_reg.fit(X_resampled, y_resampled)\n",
    "\n",
    "# 2. Fit Random Forest\n",
    "rf_model = RandomForestClassifier(random_state=42)\n",
    "rf_model.fit(X_train, y_train)\n",
    "\n",
    "# 3. Fit XGBoost (with tuned hyperparameters)\n",
    "best_xgb = xgb.XGBClassifier(\n",
    "    use_label_encoder=False, eval_metric='logloss',\n",
    "    subsample=0.8, reg_lambda=0.01, reg_alpha=0, n_estimators=300,\n",
    "    max_depth=9, learning_rate=0.1, gamma=0, colsample_bytree=0.6\n",
    ")\n",
    "best_xgb.fit(X_train, y_train)\n",
    "\n",
    "\n",
    "# Function to plot ROC curve for a single model\n",
    "def plot_roc_curve(model, X_test, y_test, model_name):\n",
    "    # Get predicted probabilities for the positive class (fraudulent transactions)\n",
    "    y_probs = model.predict_proba(X_test)[:, 1]  # Get the probabilities of the positive class\n",
    "    \n",
    "    # Calculate False Positive Rate (FPR), True Positive Rate (TPR), and thresholds\n",
    "    fpr, tpr, thresholds = roc_curve(y_test, y_probs)\n",
    "    \n",
    "    # Calculate AUC (Area Under Curve)\n",
    "    auc = roc_auc_score(y_test, y_probs)\n",
    "    \n",
    "    # Plot ROC curve\n",
    "    plt.plot(fpr, tpr, label=f'{model_name} (AUC = {auc:.4f})')\n",
    "\n",
    "# Plot ROC curves for all models on the same plot\n",
    "plt.figure(figsize=(10, 8))\n",
    "\n",
    "# List of models with names for easier plotting\n",
    "models = [\n",
    "    (\"Logistic Regression\", log_reg), \n",
    "    (\"Random Forest\", rf_model), \n",
    "    (\"XGBoost\", best_xgb)\n",
    "]\n",
    "\n",
    "# Loop through each model and plot the ROC curve\n",
    "for model_name, model in models:\n",
    "    plot_roc_curve(model, X_test, y_test, model_name)\n",
    "\n",
    "# Plot diagonal line for random guessing (AUC = 0.5)\n",
    "plt.plot([0, 1], [0, 1], color='navy', linestyle='--', label='Random Guessing (AUC = 0.5000)')\n",
    "\n",
    "# Set plot labels and title\n",
    "plt.xlabel('False Positive Rate')\n",
    "plt.ylabel('True Positive Rate')\n",
    "plt.title('ROC Curve Comparison for Logistic Regression, Random Forest, and XGBoost')\n",
    "plt.legend(loc='lower right')\n",
    "plt.show()\n"
   ]
  }
 ],
 "metadata": {
  "kernelspec": {
   "display_name": "Python 3 (ipykernel)",
   "language": "python",
   "name": "python3"
  },
  "language_info": {
   "codemirror_mode": {
    "name": "ipython",
    "version": 3
   },
   "file_extension": ".py",
   "mimetype": "text/x-python",
   "name": "python",
   "nbconvert_exporter": "python",
   "pygments_lexer": "ipython3",
   "version": "3.11.5"
  }
 },
 "nbformat": 4,
 "nbformat_minor": 5
}
